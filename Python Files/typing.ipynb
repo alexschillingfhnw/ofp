{
 "cells": [
  {
   "attachments": {},
   "cell_type": "markdown",
   "metadata": {},
   "source": [
    "## Any\n",
    "\n",
    "Die Funktion `Any` aus dem Modul `typing` ist ein Alias für das Python-Schlüsselwort `object`. Sie kann verwendet werden, um eine beliebige Art von Objekt zu repräsentieren, ohne eine Einschränkung auf einen bestimmten Typ. Das bedeutet, dass eine Variable, die mit `Any` getypt ist, jeden Typ von Objekt annehmen kann. Die Verwendung von `Any` sollte jedoch vermieden werden, da sie die Typsicherheit des Codes verringern und mögliche Fehlerquellen erhöhen kann."
   ]
  },
  {
   "cell_type": "code",
   "execution_count": 17,
   "metadata": {},
   "outputs": [],
   "source": [
    "from typing import Any\n",
    "\n",
    "def print_value(value: Any) -> None:\n",
    "    print(value)\n",
    "    print(type(value))"
   ]
  },
  {
   "attachments": {},
   "cell_type": "markdown",
   "metadata": {},
   "source": [
    "Hier wird die Funktion print_value definiert, die ein Argument vom Typ Any erwartet und eine None-Ausgabe zurückgibt. Die Verwendung von Any ermöglicht es uns, jede Art von Objekt als Argument für die Funktion zu akzeptieren."
   ]
  },
  {
   "attachments": {},
   "cell_type": "markdown",
   "metadata": {},
   "source": [
    "## Union\n",
    "\n",
    "Die `Union` Funktion aus dem `typing` Modul dient dazu, Typen zu verbinden. Sie erlaubt es, mehrere Typen für eine Variable anzugeben. Eine Variable, die mit `Union` getypt ist, kann alle Typen annehmen, die als Parameter für `Union` angegeben wurden. Dadurch können Entwickler flexibler sein, wenn sie den Typ für eine Variable angeben. Ein Beispiel für die Verwendung von `Union` ist `Union[int, float]`, das angibt, dass eine Variable entweder ein `int` oder ein `float` sein kann.\n",
    "\n",
    "Ein Beispiel für die Verwendung von `Union` in Python wäre folgender Code:"
   ]
  },
  {
   "cell_type": "code",
   "execution_count": 7,
   "metadata": {},
   "outputs": [
    {
     "data": {
      "text/plain": [
       "3.784"
      ]
     },
     "execution_count": 7,
     "metadata": {},
     "output_type": "execute_result"
    }
   ],
   "source": [
    "from typing import Union\n",
    "\n",
    "def add(a: Union[int, float], b: Union[int, float]) -> Union[int, float]:\n",
    "    return a + b\n",
    "\n",
    "add(1.34, 2.444)"
   ]
  },
  {
   "attachments": {},
   "cell_type": "markdown",
   "metadata": {},
   "source": [
    "Hier wird die Funktion add definiert, die zwei Argumente vom Typ int oder float erwartet und eine Ausgabe vom Typ int oder float zurückgibt, je nachdem, welcher Typ für die Eingabe verwendet wurde. Die Verwendung von Union ermöglicht es uns, diesen flexiblen Typ für die Eingabe- und Ausgabeparameter der Funktion zu definieren."
   ]
  },
  {
   "attachments": {},
   "cell_type": "markdown",
   "metadata": {},
   "source": [
    "## Callable\n",
    "\n",
    "Die `Callable` Funktion ist eine von `typing` bereitgestellte Funktion, die verwendet wird, um eine Funktionssignatur zu definieren. Sie wird bei der Verwendung von Higher-Order-Funktionen verwendet, um die Eingabe- und Ausgabetypen von Funktionen zu definieren. `Callable[[Arg1Type, Arg2Type], ReturnType]` definiert beispielsweise eine Funktion, die zwei Argumente vom Typ `Arg1Type` und `Arg2Type` erwartet und eine Ausgabe vom Typ `ReturnType` zurückgibt.\n",
    "\n",
    "Ein Beispiel für die Verwendung von `Callable` in Python:"
   ]
  },
  {
   "cell_type": "code",
   "execution_count": 18,
   "metadata": {},
   "outputs": [
    {
     "name": "stdout",
     "output_type": "stream",
     "text": [
      "7\n"
     ]
    }
   ],
   "source": [
    "from typing import Callable\n",
    "\n",
    "Func = Callable[[int, int], int]\n",
    "\n",
    "def apply_function() -> int:\n",
    "    return func(a, b)\n",
    "\n",
    "def add(a: int, b: int) -> int:\n",
    "    return a + b\n",
    "\n",
    "result = apply_function(add, 3, 4)\n",
    "print(result)"
   ]
  },
  {
   "attachments": {},
   "cell_type": "markdown",
   "metadata": {},
   "source": [
    "Hier wird die Funktion `apply_function` definiert, die als Argumente eine Funktion vom Typ `Callable[[int, int], int]`, sowie zwei `int`-Argumente erwartet. Die Funktion `apply_function` ruft die übergebene Funktion mit den beiden Argumenten auf und gibt das Ergebnis zurück.\n",
    "\n",
    "Die Funktion `add` wird definiert, um die Summe zweier `int`-Argumente zu berechnen.\n",
    "\n",
    "Schließlich wird die Funktion `apply_function` aufgerufen und die Funktion `add` als Argument verwendet, um die Summe von 3 und 4 zu berechnen. Das Ergebnis, 7, wird dann auf der Konsole ausgegeben."
   ]
  },
  {
   "cell_type": "markdown",
   "metadata": {},
   "source": []
  }
 ],
 "metadata": {
  "kernelspec": {
   "display_name": "Python 3",
   "language": "python",
   "name": "python3"
  },
  "language_info": {
   "codemirror_mode": {
    "name": "ipython",
    "version": 3
   },
   "file_extension": ".py",
   "mimetype": "text/x-python",
   "name": "python",
   "nbconvert_exporter": "python",
   "pygments_lexer": "ipython3",
   "version": "3.8.8 (v3.8.8:024d8058b0, Feb 19 2021, 08:48:17) \n[Clang 6.0 (clang-600.0.57)]"
  },
  "orig_nbformat": 4,
  "vscode": {
   "interpreter": {
    "hash": "aee8b7b246df8f9039afb4144a1f6fd8d2ca17a180786b69acc140d282b71a49"
   }
  }
 },
 "nbformat": 4,
 "nbformat_minor": 2
}
